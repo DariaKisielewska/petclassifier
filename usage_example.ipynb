{
 "cells": [
  {
   "cell_type": "markdown",
   "metadata": {},
   "source": [
    "### Load necessary libraries"
   ]
  },
  {
   "cell_type": "code",
   "execution_count": 1,
   "metadata": {
    "ExecuteTime": {
     "end_time": "2019-09-05T09:37:20.300025Z",
     "start_time": "2019-09-05T09:37:19.067245Z"
    }
   },
   "outputs": [],
   "source": [
    "from petclassifier import processdata, models, output, figures\n",
    "import uproot\n",
    "import uproot_methods\n",
    "import numpy as np\n",
    "import matplotlib.pyplot as plt\n",
    "seed = 11\n",
    "np.random.seed(seed)"
   ]
  },
  {
   "cell_type": "markdown",
   "metadata": {},
   "source": [
    "### Set up tenforlow (multiple CPU)"
   ]
  },
  {
   "cell_type": "code",
   "execution_count": 2,
   "metadata": {
    "ExecuteTime": {
     "end_time": "2019-09-05T09:37:20.356121Z",
     "start_time": "2019-09-05T09:37:20.301701Z"
    }
   },
   "outputs": [],
   "source": [
    "import os\n",
    "os.environ[\"CUDA_VISIBLE_DEVICES\"]=\"-1\"  \n",
    "import tensorflow as tf\n",
    "from tensorflow import keras\n",
    "from tensorflow.keras.models import Sequential\n",
    "from tensorflow.keras.layers import Dropout, LSTM, Dense, Activation, Conv2D, Conv1D, MaxPooling2D, MaxPooling1D, TimeDistributed\n",
    "from tensorflow.keras import utils\n",
    "sess = tf.compat.v1.Session(config=tf.compat.v1.ConfigProto(device_count={'GPU': 0, 'CPU': 6}, log_device_placement=False ))"
   ]
  },
  {
   "cell_type": "markdown",
   "metadata": {},
   "source": [
    "### Parameters to specify"
   ]
  },
  {
   "cell_type": "code",
   "execution_count": 3,
   "metadata": {
    "ExecuteTime": {
     "end_time": "2019-09-05T09:37:20.364721Z",
     "start_time": "2019-09-05T09:37:20.358939Z"
    }
   },
   "outputs": [
    {
     "name": "stdout",
     "output_type": "stream",
     "text": [
      "Folder saved_models/standard_geometry exists ! Moved to saved_models/backup\n",
      "Successfully created the directory saved_models/standard_geometry \n"
     ]
    }
   ],
   "source": [
    "FILE_NAME = 'standard_geometry' # file name to load (standard_geomtery)\n",
    "NEIGHBOURS = 8 # add how many events should be processed around classified event\n",
    "FOLDER_NAME = 'standard_geometry' # name of the folder (in saved_models) where output will be stored\n",
    "PATH = 'saved_models/'+FOLDER_NAME\n",
    "output.create_output_folder(PATH)"
   ]
  },
  {
   "cell_type": "markdown",
   "metadata": {},
   "source": [
    "Used analysis scheme:\n",
    "- event to classity is surrounded by X neighbourgs on both sides\n",
    "- this structure is passed to LSTM layer"
   ]
  },
  {
   "cell_type": "code",
   "execution_count": 4,
   "metadata": {
    "ExecuteTime": {
     "end_time": "2019-09-05T09:37:20.482795Z",
     "start_time": "2019-09-05T09:37:20.367786Z"
    }
   },
   "outputs": [
    {
     "data": {
      "image/png": "[encoded data removed]",
      "text/plain": [
       "<Figure size 432x288 with 1 Axes>"
      ]
     },
     "metadata": {
      "needs_background": "light"
     },
     "output_type": "display_data"
    }
   ],
   "source": [
    "figures.event_scheme()"
   ]
  },
  {
   "cell_type": "markdown",
   "metadata": {},
   "source": [
    "### Load data"
   ]
  },
  {
   "cell_type": "code",
   "execution_count": 5,
   "metadata": {
    "ExecuteTime": {
     "end_time": "2019-09-05T09:37:20.531886Z",
     "start_time": "2019-09-05T09:37:20.485066Z"
    }
   },
   "outputs": [],
   "source": [
    "fileIn = uproot.open('data/'+FILE_NAME+'.root')\n",
    "tree = fileIn[\"T\"]"
   ]
  },
  {
   "cell_type": "markdown",
   "metadata": {},
   "source": [
    "### Prepare data"
   ]
  },
  {
   "cell_type": "code",
   "execution_count": 6,
   "metadata": {
    "ExecuteTime": {
     "end_time": "2019-09-05T09:37:20.534790Z",
     "start_time": "2019-09-05T09:37:20.533053Z"
    }
   },
   "outputs": [],
   "source": [
    "NUM_CATEGORIES = 5"
   ]
  },
  {
   "cell_type": "code",
   "execution_count": 7,
   "metadata": {
    "ExecuteTime": {
     "end_time": "2019-09-05T09:37:24.918650Z",
     "start_time": "2019-09-05T09:37:20.536196Z"
    }
   },
   "outputs": [
    {
     "name": "stdout",
     "output_type": "stream",
     "text": [
      "--- load from file     :  0.14174842834472656 seconds ---\n",
      "--- data manipulations :  4.232766389846802 seconds ---\n"
     ]
    }
   ],
   "source": [
    "x_all, y_all = processdata.prepare_mc_sliding_window(\n",
    "    tree, NEIGHBOURS, NUM_CATEGORIES)"
   ]
  },
  {
   "cell_type": "markdown",
   "metadata": {},
   "source": [
    "### Split into train and test sets"
   ]
  },
  {
   "cell_type": "code",
   "execution_count": 8,
   "metadata": {
    "ExecuteTime": {
     "end_time": "2019-09-05T09:37:24.923122Z",
     "start_time": "2019-09-05T09:37:24.920047Z"
    }
   },
   "outputs": [],
   "source": [
    "train_size = int(len(x_all) * 0.67)\n",
    "test_size = len(x_all) - train_size\n",
    "\n",
    "x_train, x_test = x_all[0:train_size,:], x_all[train_size:len(x_all),:]\n",
    "y_train, y_test = y_all[0:train_size,:], y_all[train_size:len(y_all),:]"
   ]
  },
  {
   "cell_type": "markdown",
   "metadata": {
    "ExecuteTime": {
     "end_time": "2019-09-04T08:02:18.435424Z",
     "start_time": "2019-09-04T08:02:18.431775Z"
    }
   },
   "source": [
    "### Prepare model"
   ]
  },
  {
   "cell_type": "code",
   "execution_count": 9,
   "metadata": {
    "ExecuteTime": {
     "end_time": "2019-09-05T09:37:25.276963Z",
     "start_time": "2019-09-05T09:37:24.924154Z"
    }
   },
   "outputs": [],
   "source": [
    "model = models.LSTMv1(x_train.shape[1:], NUM_CATEGORIES)"
   ]
  },
  {
   "cell_type": "code",
   "execution_count": 10,
   "metadata": {
    "ExecuteTime": {
     "end_time": "2019-09-05T09:37:25.280316Z",
     "start_time": "2019-09-05T09:37:25.278353Z"
    }
   },
   "outputs": [],
   "source": [
    "EPOCHS = 500\n",
    "BATCH_SIZE = 256"
   ]
  },
  {
   "cell_type": "code",
   "execution_count": 11,
   "metadata": {
    "ExecuteTime": {
     "end_time": "2019-09-05T09:37:25.290269Z",
     "start_time": "2019-09-05T09:37:25.281416Z"
    }
   },
   "outputs": [],
   "source": [
    "earlyStopping = keras.callbacks.EarlyStopping(monitor='val_loss', mode='min', verbose=1, patience=20)"
   ]
  },
  {
   "cell_type": "code",
   "execution_count": 12,
   "metadata": {
    "ExecuteTime": {
     "end_time": "2019-09-05T09:37:25.298275Z",
     "start_time": "2019-09-05T09:37:25.292676Z"
    }
   },
   "outputs": [],
   "source": [
    "MODEL_NAME = PATH+'/best_model.h5'\n",
    "modelCheckpoint = keras.callbacks.ModelCheckpoint(MODEL_NAME,\n",
    "                                                  monitor='val_accuracy', mode='max',\n",
    "                                                  verbose=1, save_best_only=True)"
   ]
  },
  {
   "cell_type": "markdown",
   "metadata": {
    "ExecuteTime": {
     "end_time": "2019-09-02T11:09:02.899785Z",
     "start_time": "2019-09-02T11:09:02.896379Z"
    }
   },
   "source": [
    "### Train"
   ]
  },
  {
   "cell_type": "code",
   "execution_count": null,
   "metadata": {
    "ExecuteTime": {
     "start_time": "2019-09-05T09:37:19.089Z"
    }
   },
   "outputs": [
    {
     "name": "stdout",
     "output_type": "stream",
     "text": [
      "Train on 161553 samples, validate on 79572 samples\n",
      "Epoch 1/500\n",
      "161536/161553 [============================>.] - ETA: 0s - loss: 1.2090 - accuracy: 0.4853\n",
      "Epoch 00001: val_accuracy improved from -inf to 0.54935, saving model to saved_models/standard_geometry/best_model.h5\n",
      "161553/161553 [==============================] - 65s 402us/sample - loss: 1.2090 - accuracy: 0.4853 - val_loss: 1.1016 - val_accuracy: 0.5494\n",
      "Epoch 2/500\n",
      "161536/161553 [============================>.] - ETA: 0s - loss: 1.0929 - accuracy: 0.5547\n",
      "Epoch 00002: val_accuracy improved from 0.54935 to 0.55689, saving model to saved_models/standard_geometry/best_model.h5\n",
      "161553/161553 [==============================] - 63s 392us/sample - loss: 1.0929 - accuracy: 0.5547 - val_loss: 1.0763 - val_accuracy: 0.5569\n",
      "Epoch 3/500\n",
      "161536/161553 [============================>.] - ETA: 0s - loss: 1.0676 - accuracy: 0.5595\n",
      "Epoch 00003: val_accuracy improved from 0.55689 to 0.56056, saving model to saved_models/standard_geometry/best_model.h5\n",
      "161553/161553 [==============================] - 65s 402us/sample - loss: 1.0676 - accuracy: 0.5595 - val_loss: 1.0666 - val_accuracy: 0.5606\n",
      "Epoch 4/500\n",
      "161536/161553 [============================>.] - ETA: 0s - loss: 1.0423 - accuracy: 0.5675\n",
      "Epoch 00004: val_accuracy improved from 0.56056 to 0.57216, saving model to saved_models/standard_geometry/best_model.h5\n",
      "161553/161553 [==============================] - 65s 403us/sample - loss: 1.0423 - accuracy: 0.5675 - val_loss: 1.0310 - val_accuracy: 0.5722\n",
      "Epoch 5/500\n",
      "161536/161553 [============================>.] - ETA: 0s - loss: 1.0141 - accuracy: 0.5805\n",
      "Epoch 00005: val_accuracy improved from 0.57216 to 0.57353, saving model to saved_models/standard_geometry/best_model.h5\n",
      "161553/161553 [==============================] - 65s 399us/sample - loss: 1.0141 - accuracy: 0.5805 - val_loss: 1.0271 - val_accuracy: 0.5735\n",
      "Epoch 6/500\n",
      "154880/161553 [===========================>..] - ETA: 2s - loss: 0.9675 - accuracy: 0.5941"
     ]
    }
   ],
   "source": [
    "H = model.fit(x_train,\n",
    "              y_train,\n",
    "              epochs=EPOCHS,\n",
    "              batch_size=BATCH_SIZE,\n",
    "              callbacks=[modelCheckpoint,earlyStopping],\n",
    "              validation_data=(x_test, y_test))"
   ]
  },
  {
   "cell_type": "markdown",
   "metadata": {},
   "source": [
    "### plot the training loss and accuracy"
   ]
  },
  {
   "cell_type": "code",
   "execution_count": null,
   "metadata": {
    "ExecuteTime": {
     "start_time": "2019-09-05T09:37:19.094Z"
    }
   },
   "outputs": [],
   "source": [
    "n_epochs = len(H.history['loss'])\n",
    "N = np.arange(0, n_epochs)\n",
    "plt.style.use(\"ggplot\")\n",
    "plt.figure()\n",
    "plt.plot(N, H.history[\"loss\"], label=\"train_loss\")\n",
    "plt.plot(N, H.history[\"val_loss\"], label=\"val_loss\")\n",
    "plt.plot(N, H.history[\"accuracy\"], label=\"train_acc\")\n",
    "plt.plot(N, H.history[\"val_accuracy\"], label=\"val_acc\")\n",
    "plt.title(\"Training Loss and Accuracy\")\n",
    "plt.xlabel(\"Epoch #\")\n",
    "plt.ylabel(\"Loss/Accuracy\")\n",
    "plt.legend()\n",
    "plt.savefig(PATH+'/model_training.pdf', bbox_inches='tight')"
   ]
  },
  {
   "cell_type": "code",
   "execution_count": null,
   "metadata": {
    "ExecuteTime": {
     "start_time": "2019-09-05T09:37:19.097Z"
    }
   },
   "outputs": [],
   "source": [
    "model.load_weights(MODEL_NAME)\n",
    "predictions = model.predict(x_test)"
   ]
  },
  {
   "cell_type": "code",
   "execution_count": null,
   "metadata": {
    "ExecuteTime": {
     "start_time": "2019-09-05T09:37:19.101Z"
    }
   },
   "outputs": [],
   "source": [
    "scores = model.evaluate(x_test, y_test, verbose=0)\n",
    "print(\"%s: %.2f%%\" % (model.metrics_names[1], scores[1]*100))\n",
    "print(\"%s: %.2f%%\" % (model.metrics_names[0], scores[0]*100))"
   ]
  },
  {
   "cell_type": "code",
   "execution_count": null,
   "metadata": {
    "ExecuteTime": {
     "start_time": "2019-09-05T09:37:19.105Z"
    }
   },
   "outputs": [],
   "source": [
    "expected = processdata.change_to_category(y_test)\n",
    "predicted = processdata.change_to_category(predictions)"
   ]
  },
  {
   "cell_type": "code",
   "execution_count": null,
   "metadata": {
    "ExecuteTime": {
     "start_time": "2019-09-05T09:37:19.108Z"
    }
   },
   "outputs": [],
   "source": [
    "plt.hist(predicted, range=(0, NUM_CATEGORIES),\n",
    "         bins=NUM_CATEGORIES, alpha=0.5, label='predicted')\n",
    "plt.hist(expected, range=(0, NUM_CATEGORIES),\n",
    "         bins=NUM_CATEGORIES, alpha=0.5, label='expected')\n",
    "plt.legend()\n",
    "plt.xlabel(\"Category\")\n",
    "plt.ylabel(\"Number of events\")\n",
    "plt.savefig(PATH+'/compare_categories.pdf', bbox_inches='tight')"
   ]
  },
  {
   "cell_type": "code",
   "execution_count": null,
   "metadata": {
    "ExecuteTime": {
     "start_time": "2019-09-05T09:37:19.111Z"
    }
   },
   "outputs": [],
   "source": [
    "from sklearn.metrics import confusion_matrix\n",
    "results = confusion_matrix(expected, predicted)\n",
    "results = results.astype('float') / results.sum(axis=1)[:, np.newaxis]\n",
    "print(results)\n"
   ]
  },
  {
   "cell_type": "code",
   "execution_count": null,
   "metadata": {
    "ExecuteTime": {
     "start_time": "2019-09-05T09:37:19.115Z"
    }
   },
   "outputs": [],
   "source": [
    "plt.hist2d(expected,predicted, bins=(NUM_CATEGORIES, NUM_CATEGORIES), range=[[0,NUM_CATEGORIES],[0,NUM_CATEGORIES]])\n",
    "plt.xlabel('expected')\n",
    "plt.ylabel('predicted')\n",
    "plt.colorbar()\n",
    "plt.show()"
   ]
  }
 ],
 "metadata": {
  "kernelspec": {
   "display_name": "Python 3",
   "language": "python",
   "name": "python3"
  },
  "language_info": {
   "codemirror_mode": {
    "name": "ipython",
    "version": 3
   },
   "file_extension": ".py",
   "mimetype": "text/x-python",
   "name": "python",
   "nbconvert_exporter": "python",
   "pygments_lexer": "ipython3",
   "version": "3.7.3"
  }
 },
 "nbformat": 4,
 "nbformat_minor": 4
}
